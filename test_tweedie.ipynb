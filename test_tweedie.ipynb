{
 "cells": [
  {
   "cell_type": "markdown",
   "metadata": {},
   "source": [
    "This notebook contains eample showing how to do a tweedie GLM in both keras and tensorflow probability GLM framework and exactly tie out the results to the cononical implementation in statsmodels.\n",
    "\n",
    "Let's look at how to properly use the tweedie distribution in python. This distribution is widely used in modeling the compound distrubtion of insurance loss data or pure_premium = (frequency * severity)"
   ]
  },
  {
   "cell_type": "code",
   "execution_count": 1,
   "metadata": {},
   "outputs": [],
   "source": [
    "%load_ext autoreload\n",
    "%autoreload 2"
   ]
  },
  {
   "cell_type": "code",
   "execution_count": 2,
   "metadata": {},
   "outputs": [],
   "source": [
    "import numpy as np\n",
    "import pandas as pd"
   ]
  },
  {
   "cell_type": "code",
   "execution_count": 3,
   "metadata": {},
   "outputs": [],
   "source": [
    "import matplotlib.pyplot as plt\n",
    "%matplotlib inline"
   ]
  },
  {
   "cell_type": "code",
   "execution_count": 4,
   "metadata": {},
   "outputs": [],
   "source": [
    "np.random.seed(333)\n",
    "n = 1_000_000\n",
    "df = pd.DataFrame({\"a\": np.random.random(size=n), \"b\": np.random.random(size=n)})\n",
    "wts = np.array([0.1, 0.5])\n",
    "df['mu'] = (df.values * wts).sum(axis=1)"
   ]
  },
  {
   "cell_type": "code",
   "execution_count": 5,
   "metadata": {},
   "outputs": [
    {
     "data": {
      "text/html": [
       "<div>\n",
       "<style scoped>\n",
       "    .dataframe tbody tr th:only-of-type {\n",
       "        vertical-align: middle;\n",
       "    }\n",
       "\n",
       "    .dataframe tbody tr th {\n",
       "        vertical-align: top;\n",
       "    }\n",
       "\n",
       "    .dataframe thead th {\n",
       "        text-align: right;\n",
       "    }\n",
       "</style>\n",
       "<table border=\"1\" class=\"dataframe\">\n",
       "  <thead>\n",
       "    <tr style=\"text-align: right;\">\n",
       "      <th></th>\n",
       "      <th>a</th>\n",
       "      <th>b</th>\n",
       "      <th>mu</th>\n",
       "    </tr>\n",
       "  </thead>\n",
       "  <tbody>\n",
       "    <tr>\n",
       "      <th>count</th>\n",
       "      <td>1.000000e+06</td>\n",
       "      <td>1000000.000000</td>\n",
       "      <td>1000000.000000</td>\n",
       "    </tr>\n",
       "    <tr>\n",
       "      <th>mean</th>\n",
       "      <td>4.998997e-01</td>\n",
       "      <td>0.499766</td>\n",
       "      <td>0.299873</td>\n",
       "    </tr>\n",
       "    <tr>\n",
       "      <th>std</th>\n",
       "      <td>2.886461e-01</td>\n",
       "      <td>0.288896</td>\n",
       "      <td>0.147322</td>\n",
       "    </tr>\n",
       "    <tr>\n",
       "      <th>min</th>\n",
       "      <td>5.261994e-07</td>\n",
       "      <td>0.000002</td>\n",
       "      <td>0.000442</td>\n",
       "    </tr>\n",
       "    <tr>\n",
       "      <th>25%</th>\n",
       "      <td>2.500926e-01</td>\n",
       "      <td>0.249347</td>\n",
       "      <td>0.174608</td>\n",
       "    </tr>\n",
       "    <tr>\n",
       "      <th>50%</th>\n",
       "      <td>4.999727e-01</td>\n",
       "      <td>0.499685</td>\n",
       "      <td>0.299761</td>\n",
       "    </tr>\n",
       "    <tr>\n",
       "      <th>75%</th>\n",
       "      <td>7.498688e-01</td>\n",
       "      <td>0.750379</td>\n",
       "      <td>0.425083</td>\n",
       "    </tr>\n",
       "    <tr>\n",
       "      <th>max</th>\n",
       "      <td>9.999947e-01</td>\n",
       "      <td>0.999996</td>\n",
       "      <td>0.599721</td>\n",
       "    </tr>\n",
       "  </tbody>\n",
       "</table>\n",
       "</div>"
      ],
      "text/plain": [
       "                  a               b              mu\n",
       "count  1.000000e+06  1000000.000000  1000000.000000\n",
       "mean   4.998997e-01        0.499766        0.299873\n",
       "std    2.886461e-01        0.288896        0.147322\n",
       "min    5.261994e-07        0.000002        0.000442\n",
       "25%    2.500926e-01        0.249347        0.174608\n",
       "50%    4.999727e-01        0.499685        0.299761\n",
       "75%    7.498688e-01        0.750379        0.425083\n",
       "max    9.999947e-01        0.999996        0.599721"
      ]
     },
     "execution_count": 5,
     "metadata": {},
     "output_type": "execute_result"
    }
   ],
   "source": [
    "df.describe()"
   ]
  },
  {
   "cell_type": "code",
   "execution_count": 7,
   "metadata": {},
   "outputs": [
    {
     "data": {
      "text/plain": [
       "<matplotlib.axes._subplots.AxesSubplot at 0x7fa3a20aab38>"
      ]
     },
     "execution_count": 7,
     "metadata": {},
     "output_type": "execute_result"
    },
    {
     "data": {
      "image/png": "[encoded data removed]",
      "text/plain": [
       "<Figure size 432x288 with 1 Axes>"
      ]
     },
     "metadata": {
      "needs_background": "light"
     },
     "output_type": "display_data"
    }
   ],
   "source": [
    "df.mu.apply(np.exp).hist()"
   ]
  },
  {
   "cell_type": "code",
   "execution_count": 8,
   "metadata": {},
   "outputs": [
    {
     "data": {
      "text/plain": [
       "(0.2998729949171409, 1.3647940994877645, 3.251398071016258, 10.392304845413264)"
      ]
     },
     "execution_count": 8,
     "metadata": {},
     "output_type": "execute_result"
    },
    {
     "data": {
      "image/png": "[encoded data removed]",
      "text/plain": [
       "<Figure size 432x288 with 1 Axes>"
      ]
     },
     "metadata": {
      "needs_background": "light"
     },
     "output_type": "display_data"
    }
   ],
   "source": [
    "np.random.seed(seed=32)\n",
    "\n",
    "def rtweedie(n,p,mu,phi):\n",
    "    #checking the value of variance power between 1-2\n",
    "    if not 1 < p < 2:\n",
    "        raise ValueError()\n",
    "        \n",
    "    #rt=np.full(n,np.nan)\n",
    "    # calculating mean of poisson distribution\n",
    "    lambdaa=mu**(2-p)/(phi*(2-p))\n",
    "    # shape parameter of gamma distribution\n",
    "    alpha=(2-p)/(1-p)\n",
    "    # scale parameter of gamma distribution\n",
    "    gam= phi*(p-1)*(mu**(p-1))\n",
    "    # Generating Poisson random sample\n",
    "    N=np.random.poisson(lambdaa,n)\n",
    "    #for i in range(n):\n",
    "    # Generate single data point of gamma distribution using poisson random variable\n",
    "    rt=np.random.gamma(N*np.abs(alpha),gam,n)\n",
    "    return(rt)\n",
    "\n",
    "sample = rtweedie(len(df), 1.5, np.exp(df[\"mu\"]), 2)\n",
    "pd.Series(sample).hist(bins=30)\n",
    "df[\"mu\"].mean(), sample.mean(), sample.var(), 2*3**1.5"
   ]
  },
  {
   "cell_type": "code",
   "execution_count": 9,
   "metadata": {},
   "outputs": [],
   "source": [
    "df[\"loss\"] = sample"
   ]
  },
  {
   "cell_type": "code",
   "execution_count": 10,
   "metadata": {},
   "outputs": [
    {
     "data": {
      "text/plain": [
       "count    1000000.000000\n",
       "mean           1.364794\n",
       "std            1.803164\n",
       "min            0.000000\n",
       "25%            0.000000\n",
       "50%            0.678980\n",
       "75%            2.068765\n",
       "max           22.774076\n",
       "Name: loss, dtype: float64"
      ]
     },
     "execution_count": 10,
     "metadata": {},
     "output_type": "execute_result"
    }
   ],
   "source": [
    "df[\"loss\"].describe()"
   ]
  },
  {
   "cell_type": "code",
   "execution_count": null,
   "metadata": {},
   "outputs": [],
   "source": []
  },
  {
   "cell_type": "code",
   "execution_count": 11,
   "metadata": {},
   "outputs": [
    {
     "name": "stderr",
     "output_type": "stream",
     "text": [
      "/home/thenome/horsevid/env/lib/python3.7/site-packages/numpy/core/fromnumeric.py:2389: FutureWarning: Method .ptp is deprecated and will be removed in a future version. Use numpy.ptp instead.\n",
      "  return ptp(axis=axis, out=out, **kwargs)\n"
     ]
    },
    {
     "data": {
      "text/html": [
       "<table class=\"simpletable\">\n",
       "<caption>Generalized Linear Model Regression Results</caption>\n",
       "<tr>\n",
       "  <th>Dep. Variable:</th>        <td>loss</td>       <th>  No. Observations:  </th>   <td>1000000</td> \n",
       "</tr>\n",
       "<tr>\n",
       "  <th>Model:</th>                 <td>GLM</td>       <th>  Df Residuals:      </th>   <td>999997</td>  \n",
       "</tr>\n",
       "<tr>\n",
       "  <th>Model Family:</th>        <td>Tweedie</td>     <th>  Df Model:          </th>   <td>     2</td>  \n",
       "</tr>\n",
       "<tr>\n",
       "  <th>Link Function:</th>         <td>log</td>       <th>  Scale:             </th>  <td>  1.9990</td> \n",
       "</tr>\n",
       "<tr>\n",
       "  <th>Method:</th>               <td>IRLS</td>       <th>  Log-Likelihood:    </th>  <td>     nan</td> \n",
       "</tr>\n",
       "<tr>\n",
       "  <th>Date:</th>           <td>Tue, 16 Apr 2019</td> <th>  Deviance:          </th> <td>2.3925e+06</td>\n",
       "</tr>\n",
       "<tr>\n",
       "  <th>Time:</th>               <td>20:46:43</td>     <th>  Pearson chi2:      </th>  <td>2.00e+06</td> \n",
       "</tr>\n",
       "<tr>\n",
       "  <th>No. Iterations:</th>         <td>8</td>        <th>  Covariance Type:   </th>  <td>nonrobust</td>\n",
       "</tr>\n",
       "</table>\n",
       "<table class=\"simpletable\">\n",
       "<tr>\n",
       "    <td></td>       <th>coef</th>     <th>std err</th>      <th>z</th>      <th>P>|z|</th>  <th>[0.025</th>    <th>0.975]</th>  \n",
       "</tr>\n",
       "<tr>\n",
       "  <th>const</th> <td>    0.0046</td> <td>    0.004</td> <td>    1.294</td> <td> 0.196</td> <td>   -0.002</td> <td>    0.012</td>\n",
       "</tr>\n",
       "<tr>\n",
       "  <th>a</th>     <td>    0.0965</td> <td>    0.005</td> <td>   21.268</td> <td> 0.000</td> <td>    0.088</td> <td>    0.105</td>\n",
       "</tr>\n",
       "<tr>\n",
       "  <th>b</th>     <td>    0.4954</td> <td>    0.005</td> <td>  109.090</td> <td> 0.000</td> <td>    0.486</td> <td>    0.504</td>\n",
       "</tr>\n",
       "</table>"
      ],
      "text/plain": [
       "<class 'statsmodels.iolib.summary.Summary'>\n",
       "\"\"\"\n",
       "                 Generalized Linear Model Regression Results                  \n",
       "==============================================================================\n",
       "Dep. Variable:                   loss   No. Observations:              1000000\n",
       "Model:                            GLM   Df Residuals:                   999997\n",
       "Model Family:                 Tweedie   Df Model:                            2\n",
       "Link Function:                    log   Scale:                          1.9990\n",
       "Method:                          IRLS   Log-Likelihood:                    nan\n",
       "Date:                Tue, 16 Apr 2019   Deviance:                   2.3925e+06\n",
       "Time:                        20:46:43   Pearson chi2:                 2.00e+06\n",
       "No. Iterations:                     8   Covariance Type:             nonrobust\n",
       "==============================================================================\n",
       "                 coef    std err          z      P>|z|      [0.025      0.975]\n",
       "------------------------------------------------------------------------------\n",
       "const          0.0046      0.004      1.294      0.196      -0.002       0.012\n",
       "a              0.0965      0.005     21.268      0.000       0.088       0.105\n",
       "b              0.4954      0.005    109.090      0.000       0.486       0.504\n",
       "==============================================================================\n",
       "\"\"\""
      ]
     },
     "execution_count": 11,
     "metadata": {},
     "output_type": "execute_result"
    }
   ],
   "source": [
    "import statsmodels.api as sm\n",
    "\n",
    "mod2 = sm.GLM(\n",
    "    df['loss'], sm.add_constant(df[[\"a\", \"b\"]]), \n",
    "    family=sm.families.Tweedie(sm.genmod.families.links.log(), var_power=1.5)\n",
    ")\n",
    "\n",
    "mod2 = mod2.fit()\n",
    "\n",
    "mod2.summary()"
   ]
  },
  {
   "cell_type": "code",
   "execution_count": 12,
   "metadata": {},
   "outputs": [
    {
     "data": {
      "text/html": [
       "<table class=\"simpletable\">\n",
       "<caption>Generalized Linear Model Regression Results</caption>\n",
       "<tr>\n",
       "  <th>Dep. Variable:</th>        <td>loss</td>       <th>  No. Observations:  </th>   <td>1000000</td> \n",
       "</tr>\n",
       "<tr>\n",
       "  <th>Model:</th>                 <td>GLM</td>       <th>  Df Residuals:      </th>   <td>999997</td>  \n",
       "</tr>\n",
       "<tr>\n",
       "  <th>Model Family:</th>        <td>Tweedie</td>     <th>  Df Model:          </th>   <td>     2</td>  \n",
       "</tr>\n",
       "<tr>\n",
       "  <th>Link Function:</th>         <td>log</td>       <th>  Scale:             </th>  <td>  1.9990</td> \n",
       "</tr>\n",
       "<tr>\n",
       "  <th>Method:</th>               <td>IRLS</td>       <th>  Log-Likelihood:    </th>  <td>     nan</td> \n",
       "</tr>\n",
       "<tr>\n",
       "  <th>Date:</th>           <td>Tue, 16 Apr 2019</td> <th>  Deviance:          </th> <td>2.3925e+06</td>\n",
       "</tr>\n",
       "<tr>\n",
       "  <th>Time:</th>               <td>20:46:46</td>     <th>  Pearson chi2:      </th>  <td>2.00e+06</td> \n",
       "</tr>\n",
       "<tr>\n",
       "  <th>No. Iterations:</th>         <td>8</td>        <th>  Covariance Type:   </th>  <td>nonrobust</td>\n",
       "</tr>\n",
       "</table>\n",
       "<table class=\"simpletable\">\n",
       "<tr>\n",
       "    <td></td>       <th>coef</th>     <th>std err</th>      <th>z</th>      <th>P>|z|</th>  <th>[0.025</th>    <th>0.975]</th>  \n",
       "</tr>\n",
       "<tr>\n",
       "  <th>const</th> <td>    0.0046</td> <td>    0.004</td> <td>    1.294</td> <td> 0.196</td> <td>   -0.002</td> <td>    0.012</td>\n",
       "</tr>\n",
       "<tr>\n",
       "  <th>a</th>     <td>    0.0965</td> <td>    0.005</td> <td>   21.268</td> <td> 0.000</td> <td>    0.088</td> <td>    0.105</td>\n",
       "</tr>\n",
       "<tr>\n",
       "  <th>b</th>     <td>    0.4954</td> <td>    0.005</td> <td>  109.090</td> <td> 0.000</td> <td>    0.486</td> <td>    0.504</td>\n",
       "</tr>\n",
       "</table>"
      ],
      "text/plain": [
       "<class 'statsmodels.iolib.summary.Summary'>\n",
       "\"\"\"\n",
       "                 Generalized Linear Model Regression Results                  \n",
       "==============================================================================\n",
       "Dep. Variable:                   loss   No. Observations:              1000000\n",
       "Model:                            GLM   Df Residuals:                   999997\n",
       "Model Family:                 Tweedie   Df Model:                            2\n",
       "Link Function:                    log   Scale:                          1.9990\n",
       "Method:                          IRLS   Log-Likelihood:                    nan\n",
       "Date:                Tue, 16 Apr 2019   Deviance:                   2.3925e+06\n",
       "Time:                        20:46:46   Pearson chi2:                 2.00e+06\n",
       "No. Iterations:                     8   Covariance Type:             nonrobust\n",
       "==============================================================================\n",
       "                 coef    std err          z      P>|z|      [0.025      0.975]\n",
       "------------------------------------------------------------------------------\n",
       "const          0.0046      0.004      1.294      0.196      -0.002       0.012\n",
       "a              0.0965      0.005     21.268      0.000       0.088       0.105\n",
       "b              0.4954      0.005    109.090      0.000       0.486       0.504\n",
       "==============================================================================\n",
       "\"\"\""
      ]
     },
     "execution_count": 12,
     "metadata": {},
     "output_type": "execute_result"
    }
   ],
   "source": [
    "import statsmodels.api as sm\n",
    "\n",
    "mod1 = sm.GLM(\n",
    "    df['loss'], sm.add_constant(df[[\"a\", \"b\"]]), \n",
    "    family=sm.families.Tweedie(sm.genmod.families.links.log(), var_power=1.5)\n",
    ")\n",
    "\n",
    "mod1 = mod1.fit()\n",
    "mod1.summary()"
   ]
  },
  {
   "cell_type": "code",
   "execution_count": 13,
   "metadata": {},
   "outputs": [
    {
     "data": {
      "text/html": [
       "<table class=\"simpletable\">\n",
       "<caption>Generalized Linear Model Regression Results</caption>\n",
       "<tr>\n",
       "  <th>Dep. Variable:</th>        <td>loss</td>       <th>  No. Observations:  </th>   <td>1000000</td>  \n",
       "</tr>\n",
       "<tr>\n",
       "  <th>Model:</th>                 <td>GLM</td>       <th>  Df Residuals:      </th>   <td>999997</td>   \n",
       "</tr>\n",
       "<tr>\n",
       "  <th>Model Family:</th>        <td>Poisson</td>     <th>  Df Model:          </th>   <td>     2</td>   \n",
       "</tr>\n",
       "<tr>\n",
       "  <th>Link Function:</th>         <td>log</td>       <th>  Scale:             </th>  <td>  1.0000</td>  \n",
       "</tr>\n",
       "<tr>\n",
       "  <th>Method:</th>               <td>IRLS</td>       <th>  Log-Likelihood:    </th> <td>-1.7983e+06</td>\n",
       "</tr>\n",
       "<tr>\n",
       "  <th>Date:</th>           <td>Tue, 16 Apr 2019</td> <th>  Deviance:          </th> <td>2.0575e+06</td> \n",
       "</tr>\n",
       "<tr>\n",
       "  <th>Time:</th>               <td>20:47:10</td>     <th>  Pearson chi2:      </th>  <td>2.33e+06</td>  \n",
       "</tr>\n",
       "<tr>\n",
       "  <th>No. Iterations:</th>         <td>5</td>        <th>  Covariance Type:   </th>  <td>nonrobust</td> \n",
       "</tr>\n",
       "</table>\n",
       "<table class=\"simpletable\">\n",
       "<tr>\n",
       "    <td></td>       <th>coef</th>     <th>std err</th>      <th>z</th>      <th>P>|z|</th>  <th>[0.025</th>    <th>0.975]</th>  \n",
       "</tr>\n",
       "<tr>\n",
       "  <th>const</th> <td>    0.0042</td> <td>    0.002</td> <td>    1.788</td> <td> 0.074</td> <td>   -0.000</td> <td>    0.009</td>\n",
       "</tr>\n",
       "<tr>\n",
       "  <th>a</th>     <td>    0.0967</td> <td>    0.003</td> <td>   32.606</td> <td> 0.000</td> <td>    0.091</td> <td>    0.103</td>\n",
       "</tr>\n",
       "<tr>\n",
       "  <th>b</th>     <td>    0.4958</td> <td>    0.003</td> <td>  166.325</td> <td> 0.000</td> <td>    0.490</td> <td>    0.502</td>\n",
       "</tr>\n",
       "</table>"
      ],
      "text/plain": [
       "<class 'statsmodels.iolib.summary.Summary'>\n",
       "\"\"\"\n",
       "                 Generalized Linear Model Regression Results                  \n",
       "==============================================================================\n",
       "Dep. Variable:                   loss   No. Observations:              1000000\n",
       "Model:                            GLM   Df Residuals:                   999997\n",
       "Model Family:                 Poisson   Df Model:                            2\n",
       "Link Function:                    log   Scale:                          1.0000\n",
       "Method:                          IRLS   Log-Likelihood:            -1.7983e+06\n",
       "Date:                Tue, 16 Apr 2019   Deviance:                   2.0575e+06\n",
       "Time:                        20:47:10   Pearson chi2:                 2.33e+06\n",
       "No. Iterations:                     5   Covariance Type:             nonrobust\n",
       "==============================================================================\n",
       "                 coef    std err          z      P>|z|      [0.025      0.975]\n",
       "------------------------------------------------------------------------------\n",
       "const          0.0042      0.002      1.788      0.074      -0.000       0.009\n",
       "a              0.0967      0.003     32.606      0.000       0.091       0.103\n",
       "b              0.4958      0.003    166.325      0.000       0.490       0.502\n",
       "==============================================================================\n",
       "\"\"\""
      ]
     },
     "execution_count": 13,
     "metadata": {},
     "output_type": "execute_result"
    }
   ],
   "source": [
    "import statsmodels.api as sm\n",
    "\n",
    "mod = sm.GLM(\n",
    "    df[\"loss\"], sm.add_constant(df[[\"a\", \"b\"]]),\n",
    "    family=sm.families.Poisson()\n",
    ")\n",
    "\n",
    "mod = mod.fit()\n",
    "mod.summary()"
   ]
  },
  {
   "cell_type": "code",
   "execution_count": 14,
   "metadata": {},
   "outputs": [
    {
     "data": {
      "text/plain": [
       "1.0000052053542834"
      ]
     },
     "execution_count": 14,
     "metadata": {},
     "output_type": "execute_result"
    }
   ],
   "source": [
    "df[\"ep\"] = mod1.predict(sm.add_constant(df[[\"a\", \"b\"]]))\n",
    "\n",
    "(df[\"loss\"] / df[\"ep\"]).mean()"
   ]
  },
  {
   "cell_type": "code",
   "execution_count": 15,
   "metadata": {},
   "outputs": [
    {
     "data": {
      "text/html": [
       "<table class=\"simpletable\">\n",
       "<caption>Generalized Linear Model Regression Results</caption>\n",
       "<tr>\n",
       "  <th>Dep. Variable:</th>          <td>y</td>        <th>  No. Observations:  </th>   <td>1000000</td> \n",
       "</tr>\n",
       "<tr>\n",
       "  <th>Model:</th>                 <td>GLM</td>       <th>  Df Residuals:      </th>   <td>999997</td>  \n",
       "</tr>\n",
       "<tr>\n",
       "  <th>Model Family:</th>        <td>Tweedie</td>     <th>  Df Model:          </th>   <td>     2</td>  \n",
       "</tr>\n",
       "<tr>\n",
       "  <th>Link Function:</th>         <td>log</td>       <th>  Scale:             </th>  <td>  1.7250</td> \n",
       "</tr>\n",
       "<tr>\n",
       "  <th>Method:</th>               <td>IRLS</td>       <th>  Log-Likelihood:    </th>  <td>     nan</td> \n",
       "</tr>\n",
       "<tr>\n",
       "  <th>Date:</th>           <td>Tue, 16 Apr 2019</td> <th>  Deviance:          </th> <td>2.0624e+06</td>\n",
       "</tr>\n",
       "<tr>\n",
       "  <th>Time:</th>               <td>20:47:13</td>     <th>  Pearson chi2:      </th>  <td>1.72e+06</td> \n",
       "</tr>\n",
       "<tr>\n",
       "  <th>No. Iterations:</th>         <td>8</td>        <th>  Covariance Type:   </th>  <td>nonrobust</td>\n",
       "</tr>\n",
       "</table>\n",
       "<table class=\"simpletable\">\n",
       "<tr>\n",
       "    <td></td>       <th>coef</th>     <th>std err</th>      <th>z</th>      <th>P>|z|</th>  <th>[0.025</th>    <th>0.975]</th>  \n",
       "</tr>\n",
       "<tr>\n",
       "  <th>const</th> <td>   -0.0042</td> <td>    0.003</td> <td>   -1.224</td> <td> 0.221</td> <td>   -0.011</td> <td>    0.003</td>\n",
       "</tr>\n",
       "<tr>\n",
       "  <th>a</th>     <td>   -0.0967</td> <td>    0.005</td> <td>  -21.252</td> <td> 0.000</td> <td>   -0.106</td> <td>   -0.088</td>\n",
       "</tr>\n",
       "<tr>\n",
       "  <th>b</th>     <td>   -0.4958</td> <td>    0.005</td> <td> -109.063</td> <td> 0.000</td> <td>   -0.505</td> <td>   -0.487</td>\n",
       "</tr>\n",
       "</table>"
      ],
      "text/plain": [
       "<class 'statsmodels.iolib.summary.Summary'>\n",
       "\"\"\"\n",
       "                 Generalized Linear Model Regression Results                  \n",
       "==============================================================================\n",
       "Dep. Variable:                      y   No. Observations:              1000000\n",
       "Model:                            GLM   Df Residuals:                   999997\n",
       "Model Family:                 Tweedie   Df Model:                            2\n",
       "Link Function:                    log   Scale:                          1.7250\n",
       "Method:                          IRLS   Log-Likelihood:                    nan\n",
       "Date:                Tue, 16 Apr 2019   Deviance:                   2.0624e+06\n",
       "Time:                        20:47:13   Pearson chi2:                 1.72e+06\n",
       "No. Iterations:                     8   Covariance Type:             nonrobust\n",
       "==============================================================================\n",
       "                 coef    std err          z      P>|z|      [0.025      0.975]\n",
       "------------------------------------------------------------------------------\n",
       "const         -0.0042      0.003     -1.224      0.221      -0.011       0.003\n",
       "a             -0.0967      0.005    -21.252      0.000      -0.106      -0.088\n",
       "b             -0.4958      0.005   -109.063      0.000      -0.505      -0.487\n",
       "==============================================================================\n",
       "\"\"\""
      ]
     },
     "execution_count": 15,
     "metadata": {},
     "output_type": "execute_result"
    }
   ],
   "source": [
    "import statsmodels.api as sm\n",
    "\n",
    "mod = sm.GLM(\n",
    "    (df[\"loss\"] / df[\"ep\"]), sm.add_constant(df[[\"a\", \"b\"]]), \n",
    "    offset=np.log(df[\"ep\"]),\n",
    "    family=sm.families.Tweedie(sm.genmod.families.links.log(), var_power=1.5)\n",
    ")\n",
    "\n",
    "mod = mod.fit()\n",
    "mod.summary()"
   ]
  },
  {
   "cell_type": "code",
   "execution_count": null,
   "metadata": {},
   "outputs": [],
   "source": []
  },
  {
   "cell_type": "code",
   "execution_count": 16,
   "metadata": {},
   "outputs": [
    {
     "name": "stdout",
     "output_type": "stream",
     "text": [
      "WARNING:tensorflow:From /home/thenome/horsevid/env/lib/python3.7/site-packages/tensorflow/python/ops/resource_variable_ops.py:435: colocate_with (from tensorflow.python.framework.ops) is deprecated and will be removed in a future version.\n",
      "Instructions for updating:\n",
      "Colocations handled automatically by placer.\n",
      "_________________________________________________________________\n",
      "Layer (type)                 Output Shape              Param #   \n",
      "=================================================================\n",
      "input_1 (InputLayer)         (None, 3)                 0         \n",
      "_________________________________________________________________\n",
      "dense (Dense)                (None, 1)                 3         \n",
      "_________________________________________________________________\n",
      "lambda (Lambda)              (None, 1)                 0         \n",
      "=================================================================\n",
      "Total params: 3\n",
      "Trainable params: 3\n",
      "Non-trainable params: 0\n",
      "_________________________________________________________________\n"
     ]
    },
    {
     "name": "stderr",
     "output_type": "stream",
     "text": [
      "/home/thenome/horsevid/env/lib/python3.7/site-packages/numpy/core/fromnumeric.py:2389: FutureWarning: Method .ptp is deprecated and will be removed in a future version. Use numpy.ptp instead.\n",
      "  return ptp(axis=axis, out=out, **kwargs)\n"
     ]
    },
    {
     "name": "stdout",
     "output_type": "stream",
     "text": [
      "1000000/1000000 [==============================] - 18s 18us/sample - loss: 2.4244\n"
     ]
    },
    {
     "data": {
      "text/plain": [
       "<tensorflow.python.keras.callbacks.History at 0x7fa382ab17f0>"
      ]
     },
     "execution_count": 16,
     "metadata": {},
     "output_type": "execute_result"
    }
   ],
   "source": [
    "from tensorflow import keras\n",
    "\n",
    "def tweedie_dev_resids(y_true, y_pred, p=1.5):\n",
    "    return 2.*((y_true**(2. - p))/((1. - p) * (2. - p)) - (y_true * (y_pred**(1. - p)))/(1. - p) + (y_pred**(2. - p))/(2.-p))\n",
    "\n",
    "inl = keras.layers.Input((3,))\n",
    "out = keras.layers.Dense(1, use_bias=False)(inl)\n",
    "out = keras.layers.Lambda(lambda x: keras.backend.exp(x))(out)\n",
    "model = keras.models.Model(inl, out)\n",
    "\n",
    "model.compile(keras.optimizers.Adam(1e-3), tweedie_dev_resids)\n",
    "model.summary()\n",
    "model.fit(sm.add_constant(df[[\"a\", \"b\"]]), df[\"loss\"])"
   ]
  },
  {
   "cell_type": "code",
   "execution_count": 17,
   "metadata": {},
   "outputs": [
    {
     "data": {
      "text/plain": [
       "array([0.01090728, 0.0948837 , 0.5085655 ], dtype=float32)"
      ]
     },
     "execution_count": 17,
     "metadata": {},
     "output_type": "execute_result"
    }
   ],
   "source": [
    "model.get_weights()[0].ravel()"
   ]
  },
  {
   "cell_type": "code",
   "execution_count": 18,
   "metadata": {
    "scrolled": true
   },
   "outputs": [
    {
     "name": "stdout",
     "output_type": "stream",
     "text": [
      "\n",
      "WARNING: The TensorFlow contrib module will not be included in TensorFlow 2.0.\n",
      "For more information, please see:\n",
      "  * https://github.com/tensorflow/community/blob/master/rfcs/20180907-contrib-sunset.md\n",
      "  * https://github.com/tensorflow/addons\n",
      "If you depend on functionality not listed there, please file an issue.\n",
      "\n"
     ]
    },
    {
     "name": "stderr",
     "output_type": "stream",
     "text": [
      "/home/thenome/horsevid/env/lib/python3.7/site-packages/numpy/core/fromnumeric.py:2389: FutureWarning: Method .ptp is deprecated and will be removed in a future version. Use numpy.ptp instead.\n",
      "  return ptp(axis=axis, out=out, **kwargs)\n"
     ]
    },
    {
     "name": "stdout",
     "output_type": "stream",
     "text": [
      "Tensor(\"fit/while/Exit_2:0\", shape=(3,), dtype=float64) Tensor(\"fit/while/Exit_3:0\", shape=(1000000,), dtype=float64) Tensor(\"fit/while/Exit:0\", shape=(), dtype=bool) Tensor(\"fit/while/Exit_1:0\", shape=(), dtype=int32)\n",
      "is_converged:  True\n",
      "    num_iter:  5\n",
      "    accuracy:  0.0\n",
      "    deviance:  -3.596642530387179\n",
      "[0.00423228 0.0967199  0.4958137 ] [0.1 0.5]\n",
      "CPU times: user 4.83 s, sys: 498 ms, total: 5.32 s\n",
      "Wall time: 3.77 s\n"
     ]
    }
   ],
   "source": [
    "%%time\n",
    "import tensorflow as tf\n",
    "import tensorflow_probability as tfp\n",
    "\n",
    "Y = tf.convert_to_tensor(df[\"loss\"].values)\n",
    "X = tf.convert_to_tensor(sm.add_constant(df[[\"a\", \"b\"]]).values)\n",
    "\n",
    "w, linear_response, is_converged, num_iter = tfp.glm.fit(\n",
    "    X,\n",
    "    Y,\n",
    "    tfp.glm.Poisson(),\n",
    ")\n",
    "log_likelihood = tfp.glm.Poisson().log_prob(Y, linear_response)\n",
    "\n",
    "print(w, linear_response, is_converged, num_iter)\n",
    "w_true = tf.convert_to_tensor(np.array([0.1, 0.5]))\n",
    "\n",
    "with tf.Session() as sess:\n",
    "    [w_, linear_response_, is_converged_, num_iter_, Y_, w_true_, log_likelihood_] = sess.run([\n",
    "        w, linear_response, is_converged, num_iter, Y, w_true, log_likelihood\n",
    "    ])\n",
    "\n",
    "print('is_converged: ', is_converged_)\n",
    "print('    num_iter: ', num_iter_)\n",
    "print('    accuracy: ', np.mean((linear_response_ > 0.) == Y_))\n",
    "print('    deviance: ', 2. * np.mean(log_likelihood_))\n",
    "\n",
    "with tf.Session() as sess:\n",
    "    print(w.eval(), w_true.eval())"
   ]
  },
  {
   "cell_type": "code",
   "execution_count": 30,
   "metadata": {},
   "outputs": [],
   "source": [
    "class TWD(tfp.glm.ExponentialFamily):\n",
    "\n",
    "    _is_canonical = True\n",
    "\n",
    "    def _call(self, r):\n",
    "        mean = grad_mean = tf.exp(r)\n",
    "        var_power = 1.\n",
    "        p = 1.5\n",
    "        variance = var_power * tf.pow(mean, p)\n",
    "        #variance = mean\n",
    "        return mean, variance, grad_mean\n",
    "\n",
    "    def _log_prob(self, y, r):\n",
    "        #return tfd.Poisson(log_rate=r).log_prob(y)\n",
    "        return 1./2.*tweedie_dev_resids(y, tf.exp(r))"
   ]
  },
  {
   "cell_type": "code",
   "execution_count": 21,
   "metadata": {},
   "outputs": [
    {
     "name": "stdout",
     "output_type": "stream",
     "text": [
      "Tensor(\"fit_1/while/Exit_2:0\", shape=(3,), dtype=float64) Tensor(\"fit_1/while/Exit_3:0\", shape=(1000000,), dtype=float64) Tensor(\"fit_1/while/Exit:0\", shape=(), dtype=bool) Tensor(\"fit_1/while/Exit_1:0\", shape=(), dtype=int32)\n",
      "is_converged:  True\n",
      "    num_iter:  5\n",
      "    deviance:  2392510.349981588\n",
      "[0.00458041 0.0965176  0.49535061] [0.1 0.5]\n"
     ]
    }
   ],
   "source": [
    "import tensorflow as tf\n",
    "import tensorflow_probability as tfp\n",
    "\n",
    "Y = tf.convert_to_tensor(df[\"loss\"].values)\n",
    "X = tf.convert_to_tensor(sm.add_constant(df[[\"a\", \"b\"]]).values)\n",
    "\n",
    "w, linear_response, is_converged, num_iter = tfp.glm.fit(\n",
    "    X,\n",
    "    Y,\n",
    "    TWD(),\n",
    ")\n",
    "log_likelihood = TWD().log_prob(Y, linear_response)\n",
    "\n",
    "print(w, linear_response, is_converged, num_iter)\n",
    "w_true = tf.convert_to_tensor(np.array([0.1, 0.5]))\n",
    "\n",
    "with tf.Session() as sess:\n",
    "    [w_, linear_response_, is_converged_, num_iter_, Y_, w_true_, log_likelihood_] = sess.run([\n",
    "        w, linear_response, is_converged, num_iter, Y, w_true, log_likelihood\n",
    "    ])\n",
    "\n",
    "print('is_converged: ', is_converged_)\n",
    "print('    num_iter: ', num_iter_)\n",
    "print('    deviance: ', np.sum(log_likelihood_) * 2.)\n",
    "\n",
    "with tf.Session() as sess:\n",
    "    print(w.eval(), w_true.eval())\n",
    "    w = w.eval()\n",
    "    Y, Y_ = Y.eval(), Y_"
   ]
  },
  {
   "cell_type": "code",
   "execution_count": 22,
   "metadata": {},
   "outputs": [
    {
     "data": {
      "text/plain": [
       "(array([0.00458041, 0.0965176 , 0.49535061]),\n",
       " array([0.00458041, 0.0965176 , 0.49535061]))"
      ]
     },
     "execution_count": 22,
     "metadata": {},
     "output_type": "execute_result"
    }
   ],
   "source": [
    "mod1.params.values, mod2.params.values"
   ]
  },
  {
   "cell_type": "code",
   "execution_count": 23,
   "metadata": {},
   "outputs": [],
   "source": [
    "y_pred=np.exp((sm.add_constant(df[[\"a\", \"b\"]]).values * w).sum(axis=1))"
   ]
  },
  {
   "cell_type": "code",
   "execution_count": 25,
   "metadata": {},
   "outputs": [
    {
     "data": {
      "text/plain": [
       "(2392510.349981588, 2392510.349981588)"
      ]
     },
     "execution_count": 25,
     "metadata": {},
     "output_type": "execute_result"
    }
   ],
   "source": [
    "log_likelihood_.sum()*2,tweedie_dev_resids(Y, y_pred).sum()"
   ]
  },
  {
   "cell_type": "code",
   "execution_count": null,
   "metadata": {},
   "outputs": [],
   "source": []
  },
  {
   "cell_type": "code",
   "execution_count": 26,
   "metadata": {},
   "outputs": [
    {
     "data": {
      "text/plain": [
       "2392510.349981588"
      ]
     },
     "execution_count": 26,
     "metadata": {},
     "output_type": "execute_result"
    }
   ],
   "source": [
    "tweedie_dev_resids(Y, y_pred).sum()"
   ]
  },
  {
   "cell_type": "code",
   "execution_count": 27,
   "metadata": {},
   "outputs": [
    {
     "data": {
      "text/plain": [
       "count    1000000.000000\n",
       "mean           1.364787\n",
       "std            0.198687\n",
       "min            1.005028\n",
       "25%            1.192778\n",
       "50%            1.350233\n",
       "75%            1.528743\n",
       "max            1.815167\n",
       "dtype: float64"
      ]
     },
     "execution_count": 27,
     "metadata": {},
     "output_type": "execute_result"
    }
   ],
   "source": [
    "pd.Series(y_pred).describe()"
   ]
  },
  {
   "cell_type": "code",
   "execution_count": 28,
   "metadata": {},
   "outputs": [
    {
     "data": {
      "text/plain": [
       "(2392510.3499815874, 2392510.3499815874)"
      ]
     },
     "execution_count": 28,
     "metadata": {},
     "output_type": "execute_result"
    }
   ],
   "source": [
    "mod1.deviance, mod2.deviance"
   ]
  },
  {
   "cell_type": "code",
   "execution_count": 29,
   "metadata": {},
   "outputs": [
    {
     "data": {
      "text/plain": [
       "2392510.3499815874"
      ]
     },
     "execution_count": 29,
     "metadata": {},
     "output_type": "execute_result"
    }
   ],
   "source": [
    "y_pred_=mod1.predict(sm.add_constant(df[[\"a\", \"b\"]]))\n",
    "tweedie_dev_resids(df[\"loss\"], y_pred_).sum()"
   ]
  },
  {
   "cell_type": "code",
   "execution_count": 147,
   "metadata": {},
   "outputs": [
    {
     "data": {
      "text/plain": [
       "count    1000000.000000\n",
       "mean           1.364787\n",
       "std            0.198687\n",
       "min            1.005028\n",
       "25%            1.192778\n",
       "50%            1.350233\n",
       "75%            1.528743\n",
       "max            1.815167\n",
       "dtype: float64"
      ]
     },
     "execution_count": 147,
     "metadata": {},
     "output_type": "execute_result"
    }
   ],
   "source": [
    "pd.Series(y_pred_).describe()"
   ]
  },
  {
   "cell_type": "code",
   "execution_count": null,
   "metadata": {
    "collapsed": true
   },
   "outputs": [],
   "source": []
  }
 ],
 "metadata": {
  "kernelspec": {
   "display_name": "Python 3",
   "language": "python",
   "name": "python3"
  },
  "language_info": {
   "codemirror_mode": {
    "name": "ipython",
    "version": 3
   },
   "file_extension": ".py",
   "mimetype": "text/x-python",
   "name": "python",
   "nbconvert_exporter": "python",
   "pygments_lexer": "ipython3",
   "version": "3.7.3"
  }
 },
 "nbformat": 4,
 "nbformat_minor": 2
}
